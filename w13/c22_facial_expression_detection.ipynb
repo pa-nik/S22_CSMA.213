{
 "cells": [
  {
   "cell_type": "code",
   "execution_count": 16,
   "metadata": {},
   "outputs": [],
   "source": [
    "import tensorflow as tf\n",
    "import keras\n",
    "\n",
    "from keras import layers\n",
    "from keras import models\n",
    "from keras.preprocessing import image\n",
    "\n",
    "import numpy as np\n",
    "import matplotlib.pyplot as plt"
   ]
  },
  {
   "cell_type": "code",
   "execution_count": 17,
   "metadata": {},
   "outputs": [],
   "source": [
    "num_classes = 7     # angry, disgust, fear, happy, sad, surprise, neutral\n",
    "batch_size = 256\n",
    "epochs = 5\n",
    "\n",
    "# define CNN model\n",
    "model = models.Sequential()\n",
    "\n",
    "# 1st convolution layer\n",
    "model.add(layers.Conv2D(64, (5, 5), activation='relu', input_shape=(48,48,1)))\n",
    "model.add(layers.MaxPooling2D(pool_size=(5,5), strides=(2, 2)))\n",
    "\n",
    "# 2nd convolution layer\n",
    "model.add(layers.Conv2D(64, (3, 3), activation='relu'))\n",
    "model.add(layers.Conv2D(64, (3, 3), activation='relu'))\n",
    "model.add(layers.AveragePooling2D(pool_size=(3,3), strides=(2, 2)))\n",
    "\n",
    "#3rd convolution layer\n",
    "model.add(layers.Conv2D(128, (3, 3), activation='relu'))\n",
    "model.add(layers.Conv2D(128, (3, 3), activation='relu'))\n",
    "model.add(layers.AveragePooling2D(pool_size=(3,3), strides=(2, 2)))\n",
    "\n",
    "model.add(layers.Flatten())\n",
    "\n",
    "# fully connected neural networks\n",
    "model.add(layers.Dense(1024, activation='relu'))\n",
    "model.add(layers.Dropout(0.2))\n",
    "model.add(layers.Dense(1024, activation='relu'))\n",
    "model.add(layers.Dropout(0.2))\n",
    "\n",
    "model.add(layers.Dense(num_classes, activation='softmax'))\n",
    "\n",
    "model.compile(loss='categorical_crossentropy',\n",
    "              optimizer=tf.keras.optimizers.Adam(),\n",
    "              metrics=['accuracy'])\n",
    "\n",
    "model.load_weights('facial_expression_model_weights.h5') #load weights\n"
   ]
  },
  {
   "cell_type": "code",
   "execution_count": 36,
   "metadata": {},
   "outputs": [
    {
     "data": {
      "image/png": "[encoded data removed]",
      "text/plain": [
       "<Figure size 432x288 with 1 Axes>"
      ]
     },
     "metadata": {
      "needs_background": "light"
     },
     "output_type": "display_data"
    }
   ],
   "source": [
    "filePath = \"monalisa.png\"\n",
    "#filePath = \"jackman.png\"\n",
    "img = image.load_img(filePath, color_mode=\"grayscale\", target_size=(48, 48))\n",
    "plt.imshow(img)\n",
    "plt.show()"
   ]
  },
  {
   "cell_type": "code",
   "execution_count": 39,
   "metadata": {},
   "outputs": [
    {
     "name": "stdout",
     "output_type": "stream",
     "text": [
      "prediction: [[2.5521880e-02 1.4225120e-07 3.4006674e-02 1.0023138e-02 4.6387682e-04\n",
      "  2.5216637e-03 9.2746270e-01]]\n",
      "angry : 0.03\n",
      "disgust : 0.0\n",
      "fear : 0.03\n",
      "happy : 0.01\n",
      "sad : 0.0\n",
      "surprise : 0.0\n",
      "neutral : 0.93\n",
      "top prediction: neutral\n"
     ]
    },
    {
     "data": {
      "image/png": "[encoded data removed]",
      "text/plain": [
       "<Figure size 432x288 with 1 Axes>"
      ]
     },
     "metadata": {
      "needs_background": "light"
     },
     "output_type": "display_data"
    }
   ],
   "source": [
    "emotions = ('angry', 'disgust', 'fear', 'happy', 'sad', 'surprise', 'neutral')\n",
    "\n",
    "# function for drawing bar chart for emotion preditions\n",
    "def emotion_analysis(emotion):\n",
    "    y_pos = np.arange(len(emotions))\n",
    "    plt.bar(y_pos, emotion, align='center', alpha=0.5)\n",
    "    plt.xticks(y_pos, emotions)\n",
    "    plt.ylabel('percentage')\n",
    "    plt.title('emotion')\n",
    "    plt.show()\n",
    "\n",
    "X = image.img_to_array(img)\n",
    "X = np.expand_dims(X, axis = 0)\n",
    "X /= 255\n",
    "\n",
    "y = model.predict(X)\n",
    "print(\"prediction:\", y)\n",
    "\n",
    "for i in range(len(y[0])):\n",
    "    print(emotions[i], \":\", round(y[0][i], 2))\n",
    "\n",
    "max_y = np.argmax(y)\n",
    "print('top prediction:', emotions[max_y])\n",
    "emotion_analysis(y[0])"
   ]
  }
 ],
 "metadata": {
  "interpreter": {
   "hash": "8d4e034db59a6bda3f881a616c0934516fd717a906758f1f7139e3bd1294e4c5"
  },
  "kernelspec": {
   "display_name": "Python 3.10.2 ('.venv': venv)",
   "language": "python",
   "name": "python3"
  },
  "language_info": {
   "codemirror_mode": {
    "name": "ipython",
    "version": 3
   },
   "file_extension": ".py",
   "mimetype": "text/x-python",
   "name": "python",
   "nbconvert_exporter": "python",
   "pygments_lexer": "ipython3",
   "version": "3.10.2"
  },
  "orig_nbformat": 4
 },
 "nbformat": 4,
 "nbformat_minor": 2
}
