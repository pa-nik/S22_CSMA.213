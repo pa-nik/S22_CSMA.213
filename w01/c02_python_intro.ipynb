{
 "cells": [
  {
   "cell_type": "markdown",
   "metadata": {},
   "source": [
    "## Function Calls\n",
    "\n",
    "Programmers say that a function \"takes\" an **argument** and \"returns\" a result, also known as the **return value**.  \n",
    "\n",
    "For example, `int` function takes a value and returns an integer as a result.  We can then store the result in a variable, such as:"
   ]
  },
  {
   "cell_type": "code",
   "execution_count": 3,
   "metadata": {},
   "outputs": [
    {
     "name": "stdout",
     "output_type": "stream",
     "text": [
      "3\n"
     ]
    }
   ],
   "source": [
    "n = int(3.99999)  # take a float and return an integer\n",
    "print(n)          # prints 3"
   ]
  },
  {
   "cell_type": "code",
   "execution_count": 4,
   "metadata": {},
   "outputs": [
    {
     "name": "stdout",
     "output_type": "stream",
     "text": [
      "-2\n"
     ]
    }
   ],
   "source": [
    "n = int(-2.3)     # take a negative float and return an integer\n",
    "print(n)          # prints -2"
   ]
  },
  {
   "cell_type": "code",
   "execution_count": 5,
   "metadata": {},
   "outputs": [
    {
     "name": "stdout",
     "output_type": "stream",
     "text": [
      "32\n"
     ]
    }
   ],
   "source": [
    "n = int('32')     # take a number string and return an integer\n",
    "print(n)          # prints 32"
   ]
  },
  {
   "cell_type": "code",
   "execution_count": 6,
   "metadata": {},
   "outputs": [
    {
     "ename": "ValueError",
     "evalue": "invalid literal for int() with base 10: 'Hello'",
     "output_type": "error",
     "traceback": [
      "\u001b[1;31m---------------------------------------------------------------------------\u001b[0m",
      "\u001b[1;31mValueError\u001b[0m                                Traceback (most recent call last)",
      "Input \u001b[1;32mIn [6]\u001b[0m, in \u001b[0;36m<module>\u001b[1;34m\u001b[0m\n\u001b[1;32m----> 1\u001b[0m n \u001b[38;5;241m=\u001b[39m \u001b[38;5;28;43mint\u001b[39;49m\u001b[43m(\u001b[49m\u001b[38;5;124;43m'\u001b[39;49m\u001b[38;5;124;43mHello\u001b[39;49m\u001b[38;5;124;43m'\u001b[39;49m\u001b[43m)\u001b[49m\n",
      "\u001b[1;31mValueError\u001b[0m: invalid literal for int() with base 10: 'Hello'"
     ]
    }
   ],
   "source": [
    "n = int('Hello')  # take a string and return an integer?"
   ]
  },
  {
   "cell_type": "markdown",
   "metadata": {},
   "source": [
    "## Math Module Functions\n",
    "\n",
    "Python programs often use **modules**, which contain collections of related functions.  For example, the `math` module provides a lot of useful mathematical functions, such as the power function `pow` and the square root function `sqrt`.\n",
    "\n",
    "To use the functions in a module, use the **import statement**.  Next, specify the name of the module and function using **dot notation**:"
   ]
  },
  {
   "cell_type": "code",
   "execution_count": 7,
   "metadata": {},
   "outputs": [
    {
     "name": "stdout",
     "output_type": "stream",
     "text": [
      "25.0\n"
     ]
    }
   ],
   "source": [
    "import math\n",
    "n = math.pow(5, 2)  # assign 5 to the power of 2 to n\n",
    "print(n)            # prints 25.0"
   ]
  },
  {
   "cell_type": "code",
   "execution_count": 8,
   "metadata": {},
   "outputs": [
    {
     "name": "stdout",
     "output_type": "stream",
     "text": [
      "5.0\n"
     ]
    }
   ],
   "source": [
    "n = math.sqrt(25)   # assign square root of 25 to n\n",
    "print(n)            # prints 5.0"
   ]
  },
  {
   "cell_type": "markdown",
   "metadata": {},
   "source": [
    "## Function Definition\n",
    "\n",
    "You can specify your own functions in Python using the `def` keyword.  The first line of the function definition (ending with colon) is called the **header**, the rest is called the **body**.  Inside the function, the arguments are assigned to variables called **parameters**.\n",
    "\n",
    "Example of a function that would print the input argument two times:"
   ]
  },
  {
   "cell_type": "code",
   "execution_count": 10,
   "metadata": {},
   "outputs": [],
   "source": [
    "def print_twice(x):\n",
    "   print(x)\n",
    "   print(x)"
   ]
  },
  {
   "cell_type": "markdown",
   "metadata": {},
   "source": [
    "Note that the print statements inside function `print_twice` do not run until the function is \"called\" like this: "
   ]
  },
  {
   "cell_type": "code",
   "execution_count": 11,
   "metadata": {},
   "outputs": [
    {
     "name": "stdout",
     "output_type": "stream",
     "text": [
      "42\n",
      "42\n",
      "Spam\n",
      "Spam\n"
     ]
    }
   ],
   "source": [
    "print_twice(42)     # prints integer 42 twice\n",
    "print_twice('Spam') # prints string 'Spam' twice"
   ]
  },
  {
   "cell_type": "markdown",
   "metadata": {},
   "source": [
    "## Conditional Execution\n",
    "\n",
    "Using the  if  keyword in Python, we can use **relational operators** in conditional statements to test relations and change the program behavior accordingly: "
   ]
  },
  {
   "cell_type": "code",
   "execution_count": 12,
   "metadata": {},
   "outputs": [
    {
     "name": "stdout",
     "output_type": "stream",
     "text": [
      "x is positive\n"
     ]
    }
   ],
   "source": [
    "x = 5\n",
    "if (x > 0):\n",
    "   print('x is positive')"
   ]
  },
  {
   "cell_type": "code",
   "execution_count": 13,
   "metadata": {},
   "outputs": [
    {
     "name": "stdout",
     "output_type": "stream",
     "text": [
      "y is negative\n"
     ]
    }
   ],
   "source": [
    "y = -5\n",
    "if (y < 0): \n",
    "   print('y is negative')"
   ]
  },
  {
   "cell_type": "code",
   "execution_count": 14,
   "metadata": {},
   "outputs": [
    {
     "name": "stdout",
     "output_type": "stream",
     "text": [
      "z equals zero\n"
     ]
    }
   ],
   "source": [
    "z = 0\n",
    "if (z == 0): \n",
    "   print('z equals zero')"
   ]
  },
  {
   "cell_type": "markdown",
   "metadata": {},
   "source": [
    "Conditions with more than two possibilities can use the `elif` keyword to create **chained conditionals** that have more than two branches:"
   ]
  },
  {
   "cell_type": "code",
   "execution_count": 15,
   "metadata": {},
   "outputs": [
    {
     "name": "stdout",
     "output_type": "stream",
     "text": [
      "x is greater than y\n"
     ]
    }
   ],
   "source": [
    "x = 5\n",
    "y = -5\n",
    "if (x < y):\n",
    "   print('x is less than y')\n",
    "elif (x > y):\n",
    "   print('x is greater than y')\n",
    "else:\n",
    "   print('x and y are equal')"
   ]
  },
  {
   "cell_type": "markdown",
   "metadata": {},
   "source": [
    "## Relational Operators\n",
    "\n",
    "Conditional statements typically use the relational operators shown below to compare two or more values.  The result of these operators are **boolean expressions**, which can be either True or False.\n",
    "\n",
    "    x == y \t# True if x equals y\n",
    "    x != y \t# True if x is not equal to y\n",
    "    x > y \t# True if x is greater than y\n",
    "    x < y \t# True if x is less than y\n",
    "    x >= y \t# True if x is greater than or equal to y\n",
    "    x <= y \t# True if x is less than or equal to y"
   ]
  },
  {
   "cell_type": "markdown",
   "metadata": {},
   "source": [
    "## Logical Operators\n",
    "\n",
    "Another set of useful operators also results in boolean expressions, typically used to control program flow.  It is easy to figure out the results of these three operators following their meaning in English:\n",
    "\n",
    "    x and y \t# True if both x and y are True\n",
    "    x or y \t\t# True if either x or y are True\n",
    "    not x \t\t# True if x is False (not True)"
   ]
  }
 ],
 "metadata": {
  "interpreter": {
   "hash": "8d4e034db59a6bda3f881a616c0934516fd717a906758f1f7139e3bd1294e4c5"
  },
  "kernelspec": {
   "display_name": "Python 3.10.2 64-bit ('.venv': venv)",
   "language": "python",
   "name": "python3"
  },
  "language_info": {
   "codemirror_mode": {
    "name": "ipython",
    "version": 3
   },
   "file_extension": ".py",
   "mimetype": "text/x-python",
   "name": "python",
   "nbconvert_exporter": "python",
   "pygments_lexer": "ipython3",
   "version": "3.10.2"
  },
  "orig_nbformat": 4
 },
 "nbformat": 4,
 "nbformat_minor": 2
}
