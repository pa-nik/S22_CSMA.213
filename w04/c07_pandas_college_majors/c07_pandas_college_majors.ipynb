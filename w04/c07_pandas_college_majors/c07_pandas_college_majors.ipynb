{
 "metadata": {
  "language_info": {
   "codemirror_mode": {
    "name": "ipython",
    "version": 3
   },
   "file_extension": ".py",
   "mimetype": "text/x-python",
   "name": "python",
   "nbconvert_exporter": "python",
   "pygments_lexer": "ipython3",
   "version": "3.8.2-final"
  },
  "orig_nbformat": 2,
  "kernelspec": {
   "name": "python3",
   "display_name": "Python 3",
   "language": "python"
  }
 },
 "nbformat": 4,
 "nbformat_minor": 2,
 "cells": [
  {
   "cell_type": "code",
   "execution_count": 3,
   "metadata": {},
   "outputs": [
    {
     "output_type": "stream",
     "name": "stdout",
     "text": [
      "0    1\n1    2\n2    3\n3    4\n4    5\n5    6\n6    7\n7    8\n8    9\ndtype: int64\n"
     ]
    }
   ],
   "source": [
    "import numpy as np\n",
    "import pandas as pd\n",
    "\n",
    "# create and print a pandas series object:\n",
    "s = pd.Series([1, 2, 3, 4, 5, 6, 7, 8, 9])\n",
    "print(s)"
   ]
  },
  {
   "cell_type": "code",
   "execution_count": 4,
   "metadata": {},
   "outputs": [
    {
     "output_type": "stream",
     "name": "stdout",
     "text": [
      "          A         B         C         D\n0 -0.355823  2.429452 -0.468303 -0.782150\n1  0.743262 -1.631242  0.027584  1.028911\n2  1.529184  0.171221 -1.061611 -0.254696\n3  0.189912 -0.165839 -0.962794 -1.823952\n4 -0.797418 -0.565793  0.215927  0.265468\n5 -0.536411  1.214157  0.182459  0.310928\n6 -0.228750 -1.024439 -0.885916  0.282316\n7  0.679456  1.515704 -1.251470 -1.812697\n8  0.440161  0.383400 -1.339432  0.357317\n"
     ]
    }
   ],
   "source": [
    "# create and print a pandas dataframe object:\n",
    "df = pd.DataFrame(np.random.randn(9, 4), columns=list('ABCD'))\n",
    "print(df)"
   ]
  },
  {
   "cell_type": "code",
   "execution_count": 5,
   "metadata": {},
   "outputs": [
    {
     "output_type": "stream",
     "name": "stdout",
     "text": [
      "          A         B         C         D\n0 -0.355823  2.429452 -0.468303 -0.782150\n1  0.743262 -1.631242  0.027584  1.028911\n2  1.529184  0.171221 -1.061611 -0.254696\n3  0.189912 -0.165839 -0.962794 -1.823952\n4 -0.797418 -0.565793  0.215927  0.265468\n"
     ]
    }
   ],
   "source": [
    "# print dataframe head (first 5 rows) only:\n",
    "print(df.head())"
   ]
  },
  {
   "cell_type": "code",
   "execution_count": 6,
   "metadata": {},
   "outputs": [
    {
     "output_type": "stream",
     "name": "stdout",
     "text": [
      "          A         B         C         D\n0 -0.355823  2.429452 -0.468303 -0.782150\n1  0.743262 -1.631242  0.027584  1.028911\n"
     ]
    }
   ],
   "source": [
    "# print first 2 rows of dataframe head:\n",
    "print(df.head(2))"
   ]
  },
  {
   "cell_type": "code",
   "execution_count": 7,
   "metadata": {},
   "outputs": [
    {
     "output_type": "stream",
     "name": "stdout",
     "text": [
      "0   -0.355823\n1    0.743262\n2    1.529184\n3    0.189912\n4   -0.797418\n5   -0.536411\n6   -0.228750\n7    0.679456\n8    0.440161\nName: A, dtype: float64\n"
     ]
    }
   ],
   "source": [
    "# print dataframe column A:\n",
    "print(df['A'])"
   ]
  },
  {
   "cell_type": "code",
   "execution_count": 15,
   "metadata": {},
   "outputs": [
    {
     "output_type": "stream",
     "name": "stdout",
     "text": [
      "   Major_code                                  Major  \\\n0        1100                    GENERAL AGRICULTURE   \n1        1101  AGRICULTURE PRODUCTION AND MANAGEMENT   \n2        1102                 AGRICULTURAL ECONOMICS   \n3        1103                        ANIMAL SCIENCES   \n4        1104                           FOOD SCIENCE   \n\n                    Major_category   Total  Employed  \\\n0  Agriculture & Natural Resources  128148     90245   \n1  Agriculture & Natural Resources   95326     76865   \n2  Agriculture & Natural Resources   33955     26321   \n3  Agriculture & Natural Resources  103549     81177   \n4  Agriculture & Natural Resources   24280     17281   \n\n   Employed_full_time_year_round  Unemployed  Unemployment_rate  Median  \\\n0                          74078        2423           0.026147   50000   \n1                          64240        2266           0.028636   54000   \n2                          22810         821           0.030248   63000   \n3                          64937        3619           0.042679   46000   \n4                          12722         894           0.049188   62000   \n\n   P25th    P75th  \n0  34000  80000.0  \n1  36000  80000.0  \n2  40000  98000.0  \n3  30000  72000.0  \n4  38500  90000.0  \n"
     ]
    }
   ],
   "source": [
    "import os\n",
    "cd = os.getcwd() # read current working directory\n",
    "# read CSV file into a dataframe object:\n",
    "data_set = pd.read_csv(cd + '\\college-majors.csv')\n",
    "print(data_set.head())"
   ]
  },
  {
   "cell_type": "code",
   "execution_count": 16,
   "metadata": {},
   "outputs": [
    {
     "output_type": "stream",
     "name": "stdout",
     "text": [
      "0                                  GENERAL AGRICULTURE\n1                AGRICULTURE PRODUCTION AND MANAGEMENT\n2                               AGRICULTURAL ECONOMICS\n3                                      ANIMAL SCIENCES\n4                                         FOOD SCIENCE\n                            ...                       \n168                             HOSPITALITY MANAGEMENT\n169      MANAGEMENT INFORMATION SYSTEMS AND STATISTICS\n170    MISCELLANEOUS BUSINESS & MEDICAL ADMINISTRATION\n171                                            HISTORY\n172                              UNITED STATES HISTORY\nName: Major, Length: 173, dtype: object\n"
     ]
    }
   ],
   "source": [
    "print(data_set['Major'])"
   ]
  },
  {
   "cell_type": "code",
   "execution_count": 17,
   "metadata": {},
   "outputs": [
    {
     "output_type": "stream",
     "name": "stdout",
     "text": [
      "GENERAL AGRICULTURE\nAGRICULTURE PRODUCTION AND MANAGEMENT\nAGRICULTURAL ECONOMICS\nANIMAL SCIENCES\nFOOD SCIENCE\nPLANT SCIENCE AND AGRONOMY\nSOIL SCIENCE\nMISCELLANEOUS AGRICULTURE\nENVIRONMENTAL SCIENCE\nFORESTRY\nNATURAL RESOURCES MANAGEMENT\nARCHITECTURE\nAREA ETHNIC AND CIVILIZATION STUDIES\nCOMMUNICATIONS\nJOURNALISM\nMASS MEDIA\nADVERTISING AND PUBLIC RELATIONS\nCOMMUNICATION TECHNOLOGIES\nCOMPUTER AND INFORMATION SYSTEMS\nCOMPUTER PROGRAMMING AND DATA PROCESSING\nCOMPUTER SCIENCE\nINFORMATION SCIENCES\nCOMPUTER ADMINISTRATION MANAGEMENT AND SECURITY\nCOMPUTER NETWORKING AND TELECOMMUNICATIONS\nCOSMETOLOGY SERVICES AND CULINARY ARTS\nGENERAL EDUCATION\nEDUCATIONAL ADMINISTRATION AND SUPERVISION\nSCHOOL STUDENT COUNSELING\nELEMENTARY EDUCATION\nMATHEMATICS TEACHER EDUCATION\nPHYSICAL AND HEALTH EDUCATION TEACHING\nEARLY CHILDHOOD EDUCATION\nSCIENCE AND COMPUTER TEACHER EDUCATION\nSECONDARY TEACHER EDUCATION\nSPECIAL NEEDS EDUCATION\nSOCIAL SCIENCE OR HISTORY TEACHER EDUCATION\nTEACHER EDUCATION: MULTIPLE LEVELS\nLANGUAGE AND DRAMA EDUCATION\nART AND MUSIC EDUCATION\nMISCELLANEOUS EDUCATION\nGENERAL ENGINEERING\nAEROSPACE ENGINEERING\nBIOLOGICAL ENGINEERING\nARCHITECTURAL ENGINEERING\nBIOMEDICAL ENGINEERING\nCHEMICAL ENGINEERING\nCIVIL ENGINEERING\nCOMPUTER ENGINEERING\nELECTRICAL ENGINEERING\nENGINEERING MECHANICS PHYSICS AND SCIENCE\nENVIRONMENTAL ENGINEERING\nGEOLOGICAL AND GEOPHYSICAL ENGINEERING\nINDUSTRIAL AND MANUFACTURING ENGINEERING\nMATERIALS ENGINEERING AND MATERIALS SCIENCE\nMECHANICAL ENGINEERING\nMETALLURGICAL ENGINEERING\nMINING AND MINERAL ENGINEERING\nNAVAL ARCHITECTURE AND MARINE ENGINEERING\nNUCLEAR ENGINEERING\nPETROLEUM ENGINEERING\nMISCELLANEOUS ENGINEERING\nENGINEERING TECHNOLOGIES\nENGINEERING AND INDUSTRIAL MANAGEMENT\nELECTRICAL ENGINEERING TECHNOLOGY\nINDUSTRIAL PRODUCTION TECHNOLOGIES\nMECHANICAL ENGINEERING RELATED TECHNOLOGIES\nMISCELLANEOUS ENGINEERING TECHNOLOGIES\nLINGUISTICS AND COMPARATIVE LANGUAGE AND LITERATURE\nFRENCH GERMAN LATIN AND OTHER COMMON FOREIGN LANGUAGE STUDIES\nOTHER FOREIGN LANGUAGES\nFAMILY AND CONSUMER SCIENCES\nCOURT REPORTING\nPRE-LAW AND LEGAL STUDIES\nENGLISH LANGUAGE AND LITERATURE\nCOMPOSITION AND RHETORIC\nLIBERAL ARTS\nHUMANITIES\nLIBRARY SCIENCE\nBIOLOGY\nBIOCHEMICAL SCIENCES\nBOTANY\nMOLECULAR BIOLOGY\nECOLOGY\nGENETICS\nMICROBIOLOGY\nPHARMACOLOGY\nPHYSIOLOGY\nZOOLOGY\nNEUROSCIENCE\nMISCELLANEOUS BIOLOGY\nMATHEMATICS\nAPPLIED MATHEMATICS\nSTATISTICS AND DECISION SCIENCE\nMILITARY TECHNOLOGIES\nMULTI/INTERDISCIPLINARY STUDIES\nINTERCULTURAL AND INTERNATIONAL STUDIES\nNUTRITION SCIENCES\nMATHEMATICS AND COMPUTER SCIENCE\nCOGNITIVE SCIENCE AND BIOPSYCHOLOGY\nINTERDISCIPLINARY SOCIAL SCIENCES\nPHYSICAL FITNESS PARKS RECREATION AND LEISURE\nPHILOSOPHY AND RELIGIOUS STUDIES\nTHEOLOGY AND RELIGIOUS VOCATIONS\nPHYSICAL SCIENCES\nASTRONOMY AND ASTROPHYSICS\nATMOSPHERIC SCIENCES AND METEOROLOGY\nCHEMISTRY\nGEOLOGY AND EARTH SCIENCE\nGEOSCIENCES\nOCEANOGRAPHY\nPHYSICS\nMATERIALS SCIENCE\nMULTI-DISCIPLINARY OR GENERAL SCIENCE\nNUCLEAR, INDUSTRIAL RADIOLOGY, AND BIOLOGICAL TECHNOLOGIES\nPSYCHOLOGY\nEDUCATIONAL PSYCHOLOGY\nCLINICAL PSYCHOLOGY\nCOUNSELING PSYCHOLOGY\nINDUSTRIAL AND ORGANIZATIONAL PSYCHOLOGY\nSOCIAL PSYCHOLOGY\nMISCELLANEOUS PSYCHOLOGY\nCRIMINAL JUSTICE AND FIRE PROTECTION\nPUBLIC ADMINISTRATION\nPUBLIC POLICY\nHUMAN SERVICES AND COMMUNITY ORGANIZATION\nSOCIAL WORK\nGENERAL SOCIAL SCIENCES\nECONOMICS\nANTHROPOLOGY AND ARCHEOLOGY\nCRIMINOLOGY\nGEOGRAPHY\nINTERNATIONAL RELATIONS\nPOLITICAL SCIENCE AND GOVERNMENT\nSOCIOLOGY\nMISCELLANEOUS SOCIAL SCIENCES\nCONSTRUCTION SERVICES\nELECTRICAL, MECHANICAL, AND PRECISION TECHNOLOGIES AND PRODUCTION\nTRANSPORTATION SCIENCES AND TECHNOLOGIES\nFINE ARTS\nDRAMA AND THEATER ARTS\nMUSIC\nVISUAL AND PERFORMING ARTS\nCOMMERCIAL ART AND GRAPHIC DESIGN\nFILM VIDEO AND PHOTOGRAPHIC ARTS\nART HISTORY AND CRITICISM\nSTUDIO ARTS\nMISCELLANEOUS FINE ARTS\nGENERAL MEDICAL AND HEALTH SERVICES\nCOMMUNICATION DISORDERS SCIENCES AND SERVICES\nHEALTH AND MEDICAL ADMINISTRATIVE SERVICES\nMEDICAL ASSISTING SERVICES\nMEDICAL TECHNOLOGIES TECHNICIANS\nHEALTH AND MEDICAL PREPARATORY PROGRAMS\nNURSING\nPHARMACY PHARMACEUTICAL SCIENCES AND ADMINISTRATION\nTREATMENT THERAPY PROFESSIONS\nCOMMUNITY AND PUBLIC HEALTH\nMISCELLANEOUS HEALTH MEDICAL PROFESSIONS\nGENERAL BUSINESS\nACCOUNTING\nACTUARIAL SCIENCE\nBUSINESS MANAGEMENT AND ADMINISTRATION\nOPERATIONS LOGISTICS AND E-COMMERCE\nBUSINESS ECONOMICS\nMARKETING AND MARKETING RESEARCH\nFINANCE\nHUMAN RESOURCES AND PERSONNEL MANAGEMENT\nINTERNATIONAL BUSINESS\nHOSPITALITY MANAGEMENT\nMANAGEMENT INFORMATION SYSTEMS AND STATISTICS\nMISCELLANEOUS BUSINESS & MEDICAL ADMINISTRATION\nHISTORY\nUNITED STATES HISTORY\n"
     ]
    }
   ],
   "source": [
    "# print items in dataframe column labeled 'Major' on by one:\n",
    "for index,row in data_set.iterrows():\n",
    "    print(row['Major'])"
   ]
  },
  {
   "cell_type": "code",
   "execution_count": 19,
   "metadata": {},
   "outputs": [
    {
     "output_type": "stream",
     "name": "stdout",
     "text": [
      "writing to file.. GENERAL AGRICULTURE\nwriting to file.. AGRICULTURE PRODUCTION AND MANAGEMENT\nwriting to file.. AGRICULTURAL ECONOMICS\nwriting to file.. ANIMAL SCIENCES\nwriting to file.. FOOD SCIENCE\nwriting to file.. PLANT SCIENCE AND AGRONOMY\nwriting to file.. SOIL SCIENCE\nwriting to file.. MISCELLANEOUS AGRICULTURE\nwriting to file.. ENVIRONMENTAL SCIENCE\nwriting to file.. FORESTRY\nwriting to file.. NATURAL RESOURCES MANAGEMENT\nwriting to file.. ARCHITECTURE\nwriting to file.. AREA ETHNIC AND CIVILIZATION STUDIES\nwriting to file.. COMMUNICATIONS\nwriting to file.. JOURNALISM\nwriting to file.. MASS MEDIA\nwriting to file.. ADVERTISING AND PUBLIC RELATIONS\nwriting to file.. COMMUNICATION TECHNOLOGIES\nwriting to file.. COMPUTER AND INFORMATION SYSTEMS\nwriting to file.. COMPUTER PROGRAMMING AND DATA PROCESSING\nwriting to file.. COMPUTER SCIENCE\nwriting to file.. INFORMATION SCIENCES\nwriting to file.. COMPUTER ADMINISTRATION MANAGEMENT AND SECURITY\nwriting to file.. COMPUTER NETWORKING AND TELECOMMUNICATIONS\nwriting to file.. COSMETOLOGY SERVICES AND CULINARY ARTS\nwriting to file.. GENERAL EDUCATION\nwriting to file.. EDUCATIONAL ADMINISTRATION AND SUPERVISION\nwriting to file.. SCHOOL STUDENT COUNSELING\nwriting to file.. ELEMENTARY EDUCATION\nwriting to file.. MATHEMATICS TEACHER EDUCATION\nwriting to file.. PHYSICAL AND HEALTH EDUCATION TEACHING\nwriting to file.. EARLY CHILDHOOD EDUCATION\nwriting to file.. SCIENCE AND COMPUTER TEACHER EDUCATION\nwriting to file.. SECONDARY TEACHER EDUCATION\nwriting to file.. SPECIAL NEEDS EDUCATION\nwriting to file.. SOCIAL SCIENCE OR HISTORY TEACHER EDUCATION\nwriting to file.. TEACHER EDUCATION: MULTIPLE LEVELS\nwriting to file.. LANGUAGE AND DRAMA EDUCATION\nwriting to file.. ART AND MUSIC EDUCATION\nwriting to file.. MISCELLANEOUS EDUCATION\nwriting to file.. GENERAL ENGINEERING\nwriting to file.. AEROSPACE ENGINEERING\nwriting to file.. BIOLOGICAL ENGINEERING\nwriting to file.. ARCHITECTURAL ENGINEERING\nwriting to file.. BIOMEDICAL ENGINEERING\nwriting to file.. CHEMICAL ENGINEERING\nwriting to file.. CIVIL ENGINEERING\nwriting to file.. COMPUTER ENGINEERING\nwriting to file.. ELECTRICAL ENGINEERING\nwriting to file.. ENGINEERING MECHANICS PHYSICS AND SCIENCE\nwriting to file.. ENVIRONMENTAL ENGINEERING\nwriting to file.. GEOLOGICAL AND GEOPHYSICAL ENGINEERING\nwriting to file.. INDUSTRIAL AND MANUFACTURING ENGINEERING\nwriting to file.. MATERIALS ENGINEERING AND MATERIALS SCIENCE\nwriting to file.. MECHANICAL ENGINEERING\nwriting to file.. METALLURGICAL ENGINEERING\nwriting to file.. MINING AND MINERAL ENGINEERING\nwriting to file.. NAVAL ARCHITECTURE AND MARINE ENGINEERING\nwriting to file.. NUCLEAR ENGINEERING\nwriting to file.. PETROLEUM ENGINEERING\nwriting to file.. MISCELLANEOUS ENGINEERING\nwriting to file.. ENGINEERING TECHNOLOGIES\nwriting to file.. ENGINEERING AND INDUSTRIAL MANAGEMENT\nwriting to file.. ELECTRICAL ENGINEERING TECHNOLOGY\nwriting to file.. INDUSTRIAL PRODUCTION TECHNOLOGIES\nwriting to file.. MECHANICAL ENGINEERING RELATED TECHNOLOGIES\nwriting to file.. MISCELLANEOUS ENGINEERING TECHNOLOGIES\nwriting to file.. LINGUISTICS AND COMPARATIVE LANGUAGE AND LITERATURE\nwriting to file.. FRENCH GERMAN LATIN AND OTHER COMMON FOREIGN LANGUAGE STUDIES\nwriting to file.. OTHER FOREIGN LANGUAGES\nwriting to file.. FAMILY AND CONSUMER SCIENCES\nwriting to file.. COURT REPORTING\nwriting to file.. PRE-LAW AND LEGAL STUDIES\nwriting to file.. ENGLISH LANGUAGE AND LITERATURE\nwriting to file.. COMPOSITION AND RHETORIC\nwriting to file.. LIBERAL ARTS\nwriting to file.. HUMANITIES\nwriting to file.. LIBRARY SCIENCE\nwriting to file.. BIOLOGY\nwriting to file.. BIOCHEMICAL SCIENCES\nwriting to file.. BOTANY\nwriting to file.. MOLECULAR BIOLOGY\nwriting to file.. ECOLOGY\nwriting to file.. GENETICS\nwriting to file.. MICROBIOLOGY\nwriting to file.. PHARMACOLOGY\nwriting to file.. PHYSIOLOGY\nwriting to file.. ZOOLOGY\nwriting to file.. NEUROSCIENCE\nwriting to file.. MISCELLANEOUS BIOLOGY\nwriting to file.. MATHEMATICS\nwriting to file.. APPLIED MATHEMATICS\nwriting to file.. STATISTICS AND DECISION SCIENCE\nwriting to file.. MILITARY TECHNOLOGIES\nwriting to file.. MULTI/INTERDISCIPLINARY STUDIES\nwriting to file.. INTERCULTURAL AND INTERNATIONAL STUDIES\nwriting to file.. NUTRITION SCIENCES\nwriting to file.. MATHEMATICS AND COMPUTER SCIENCE\nwriting to file.. COGNITIVE SCIENCE AND BIOPSYCHOLOGY\nwriting to file.. INTERDISCIPLINARY SOCIAL SCIENCES\nwriting to file.. PHYSICAL FITNESS PARKS RECREATION AND LEISURE\nwriting to file.. PHILOSOPHY AND RELIGIOUS STUDIES\nwriting to file.. THEOLOGY AND RELIGIOUS VOCATIONS\nwriting to file.. PHYSICAL SCIENCES\nwriting to file.. ASTRONOMY AND ASTROPHYSICS\nwriting to file.. ATMOSPHERIC SCIENCES AND METEOROLOGY\nwriting to file.. CHEMISTRY\nwriting to file.. GEOLOGY AND EARTH SCIENCE\nwriting to file.. GEOSCIENCES\nwriting to file.. OCEANOGRAPHY\nwriting to file.. PHYSICS\nwriting to file.. MATERIALS SCIENCE\nwriting to file.. MULTI-DISCIPLINARY OR GENERAL SCIENCE\nwriting to file.. NUCLEAR, INDUSTRIAL RADIOLOGY, AND BIOLOGICAL TECHNOLOGIES\nwriting to file.. PSYCHOLOGY\nwriting to file.. EDUCATIONAL PSYCHOLOGY\nwriting to file.. CLINICAL PSYCHOLOGY\nwriting to file.. COUNSELING PSYCHOLOGY\nwriting to file.. INDUSTRIAL AND ORGANIZATIONAL PSYCHOLOGY\nwriting to file.. SOCIAL PSYCHOLOGY\nwriting to file.. MISCELLANEOUS PSYCHOLOGY\nwriting to file.. CRIMINAL JUSTICE AND FIRE PROTECTION\nwriting to file.. PUBLIC ADMINISTRATION\nwriting to file.. PUBLIC POLICY\nwriting to file.. HUMAN SERVICES AND COMMUNITY ORGANIZATION\nwriting to file.. SOCIAL WORK\nwriting to file.. GENERAL SOCIAL SCIENCES\nwriting to file.. ECONOMICS\nwriting to file.. ANTHROPOLOGY AND ARCHEOLOGY\nwriting to file.. CRIMINOLOGY\nwriting to file.. GEOGRAPHY\nwriting to file.. INTERNATIONAL RELATIONS\nwriting to file.. POLITICAL SCIENCE AND GOVERNMENT\nwriting to file.. SOCIOLOGY\nwriting to file.. MISCELLANEOUS SOCIAL SCIENCES\nwriting to file.. CONSTRUCTION SERVICES\nwriting to file.. ELECTRICAL, MECHANICAL, AND PRECISION TECHNOLOGIES AND PRODUCTION\nwriting to file.. TRANSPORTATION SCIENCES AND TECHNOLOGIES\nwriting to file.. FINE ARTS\nwriting to file.. DRAMA AND THEATER ARTS\nwriting to file.. MUSIC\nwriting to file.. VISUAL AND PERFORMING ARTS\nwriting to file.. COMMERCIAL ART AND GRAPHIC DESIGN\nwriting to file.. FILM VIDEO AND PHOTOGRAPHIC ARTS\nwriting to file.. ART HISTORY AND CRITICISM\nwriting to file.. STUDIO ARTS\nwriting to file.. MISCELLANEOUS FINE ARTS\nwriting to file.. GENERAL MEDICAL AND HEALTH SERVICES\nwriting to file.. COMMUNICATION DISORDERS SCIENCES AND SERVICES\nwriting to file.. HEALTH AND MEDICAL ADMINISTRATIVE SERVICES\nwriting to file.. MEDICAL ASSISTING SERVICES\nwriting to file.. MEDICAL TECHNOLOGIES TECHNICIANS\nwriting to file.. HEALTH AND MEDICAL PREPARATORY PROGRAMS\nwriting to file.. NURSING\nwriting to file.. PHARMACY PHARMACEUTICAL SCIENCES AND ADMINISTRATION\nwriting to file.. TREATMENT THERAPY PROFESSIONS\nwriting to file.. COMMUNITY AND PUBLIC HEALTH\nwriting to file.. MISCELLANEOUS HEALTH MEDICAL PROFESSIONS\nwriting to file.. GENERAL BUSINESS\nwriting to file.. ACCOUNTING\nwriting to file.. ACTUARIAL SCIENCE\nwriting to file.. BUSINESS MANAGEMENT AND ADMINISTRATION\nwriting to file.. OPERATIONS LOGISTICS AND E-COMMERCE\nwriting to file.. BUSINESS ECONOMICS\nwriting to file.. MARKETING AND MARKETING RESEARCH\nwriting to file.. FINANCE\nwriting to file.. HUMAN RESOURCES AND PERSONNEL MANAGEMENT\nwriting to file.. INTERNATIONAL BUSINESS\nwriting to file.. HOSPITALITY MANAGEMENT\nwriting to file.. MANAGEMENT INFORMATION SYSTEMS AND STATISTICS\nwriting to file.. MISCELLANEOUS BUSINESS & MEDICAL ADMINISTRATION\nwriting to file.. HISTORY\nwriting to file.. UNITED STATES HISTORY\n"
     ]
    }
   ],
   "source": [
    "# open new file for writing:\n",
    "with open('college-majors.txt', 'w') as filename:\n",
    "    # iterate over dataframe rows:\n",
    "    for index,row in data_set.iterrows():\n",
    "        # write each item in column 'Major' to file:\n",
    "        print('writing to file.. ' + row['Major'])\n",
    "        filename.write('%s\\n' % row['Major'])"
   ]
  }
 ]
}