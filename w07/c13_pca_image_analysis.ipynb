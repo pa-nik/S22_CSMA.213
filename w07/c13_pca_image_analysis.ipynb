{
 "cells": [
  {
   "cell_type": "code",
   "execution_count": null,
   "metadata": {},
   "outputs": [],
   "source": [
    "#%matplotlib inline\n",
    "import numpy as np\n",
    "import matplotlib.pyplot as plt\n",
    "import cv2\n",
    "\n",
    "vc = cv2.VideoCapture(0)\n",
    "#plt.ion()\n",
    "\n",
    "if vc.isOpened(): # try to get the first frame\n",
    "    is_capturing, frame = vc.read()\n",
    "    if(is_capturing):\n",
    "        plt.pause(1.0)  # pause for 1 second for camera adjustment\n",
    "    is_capturing, frame = vc.read()\n",
    "    frame = cv2.cvtColor(frame, cv2.COLOR_BGR2RGB)    \n",
    "    webcam_preview = plt.imshow(frame)    \n",
    "    vc.release()"
   ]
  },
  {
   "cell_type": "code",
   "execution_count": null,
   "metadata": {},
   "outputs": [],
   "source": [
    "# save image\n",
    "cv2.imwrite('test/opencv_capture.jpg', frame)\n",
    "print('saved image..')"
   ]
  },
  {
   "cell_type": "code",
   "execution_count": null,
   "metadata": {},
   "outputs": [],
   "source": [
    "from PIL import Image \n",
    "import os\n",
    "\n",
    "cd = os.getcwd()\n",
    "print(cd)\n",
    "\n",
    "img = Image.open('test/opencv_capture.jpg')\n",
    "\n",
    "width, height = img.size\n",
    "print('width, height =', width, height)\n",
    "\n",
    "plt.imshow(img)"
   ]
  },
  {
   "cell_type": "code",
   "execution_count": null,
   "metadata": {},
   "outputs": [],
   "source": [
    "from PIL import ImageDraw\n",
    "\n",
    "img_edit = img.copy()\n",
    "img_draw = ImageDraw.Draw(img_edit)\n",
    "left = 130\n",
    "top = 0\n",
    "right = left + 400\n",
    "bottom = top + 400\n",
    "shape = [(left, top), (right, bottom)]\n",
    "img_draw.rectangle(shape, outline=\"#00ff00\", width=2)\n",
    "plt.imshow(img_edit)\n"
   ]
  },
  {
   "cell_type": "code",
   "execution_count": null,
   "metadata": {},
   "outputs": [],
   "source": [
    "img_crop = img_edit.crop((left, top, right, bottom))\n",
    "plt.imshow(img_crop)"
   ]
  },
  {
   "cell_type": "code",
   "execution_count": null,
   "metadata": {},
   "outputs": [],
   "source": [
    "from PIL import ImageOps\n",
    "\n",
    "# apply grayscale to image\n",
    "img_gray = ImageOps.grayscale(img_crop)\n",
    "plt.imshow(img_gray, cmap='gray')"
   ]
  },
  {
   "cell_type": "code",
   "execution_count": null,
   "metadata": {},
   "outputs": [],
   "source": [
    "newsize = (240, 240)\n",
    "img_gray = img_gray.resize(newsize)\n",
    "plt.imshow(img_gray, cmap='gray')"
   ]
  },
  {
   "cell_type": "code",
   "execution_count": null,
   "metadata": {},
   "outputs": [],
   "source": [
    "img_np = np.asarray(img_gray)\n",
    "print('shape =', img_np.shape)\n",
    "\n",
    "img_np = np.reshape(img_np, [240*240])\n",
    "print('new shape =', img_np.shape)"
   ]
  },
  {
   "cell_type": "code",
   "execution_count": null,
   "metadata": {},
   "outputs": [],
   "source": [
    "from sklearn.decomposition import PCA\n",
    "\n",
    "pca = PCA(4)\n",
    "img_transformed = pca.fit_transform(img_gray)\n",
    "print('size = ', img_transformed.size)\n",
    "\n",
    "img_inverted = pca.inverse_transform(img_transformed)\n",
    "plt.imshow(img_inverted, cmap='gray')"
   ]
  },
  {
   "cell_type": "code",
   "execution_count": null,
   "metadata": {},
   "outputs": [],
   "source": []
  }
 ],
 "metadata": {
  "kernelspec": {
   "display_name": "Python 3.8.2 64-bit ('.venv')",
   "metadata": {
    "interpreter": {
     "hash": "3b358fa915020fd6449ad75693b9d66aa584f437d3945222efa9ef9512ac8c59"
    }
   },
   "name": "python3"
  },
  "language_info": {
   "codemirror_mode": {
    "name": "ipython",
    "version": 3
   },
   "file_extension": ".py",
   "mimetype": "text/x-python",
   "name": "python",
   "nbconvert_exporter": "python",
   "pygments_lexer": "ipython3",
   "version": "3.10.2"
  },
  "orig_nbformat": 2
 },
 "nbformat": 4,
 "nbformat_minor": 2
}
