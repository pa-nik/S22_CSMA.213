{
 "cells": [
  {
   "cell_type": "markdown",
   "metadata": {},
   "source": [
    "## Object Class\n",
    "\n",
    "An object is a custom programmer-defined type called a **class**.  For example, defining a class `Point` creates an **object**.  Creating a new object is called **instantiation**, and the object is an instance of the class."
   ]
  },
  {
   "cell_type": "code",
   "execution_count": 1,
   "metadata": {},
   "outputs": [],
   "source": [
    "class Point:  # class header\n",
    "    pass      # class body (empty for now)"
   ]
  },
  {
   "cell_type": "markdown",
   "metadata": {},
   "source": [
    "To create a point, call `Point` as if it were a function.  This returns a value that is a reference to a Point object:"
   ]
  },
  {
   "cell_type": "code",
   "execution_count": 2,
   "metadata": {},
   "outputs": [
    {
     "name": "stdout",
     "output_type": "stream",
     "text": [
      "<__main__.Point object at 0x000002574E4ED5D0>\n"
     ]
    }
   ],
   "source": [
    "blank = Point() # create an instance of the Point object\n",
    "print(blank) "
   ]
  },
  {
   "cell_type": "markdown",
   "metadata": {},
   "source": [
    "Since we know that a point should always have 2 coordinates, we could write the Point class this way:"
   ]
  },
  {
   "cell_type": "code",
   "execution_count": 5,
   "metadata": {},
   "outputs": [],
   "source": [
    "class Point:\n",
    "    x = 0\n",
    "    y = 0"
   ]
  },
  {
   "cell_type": "markdown",
   "metadata": {},
   "source": [
    "## Object Attributes\n",
    "\n",
    "After creating an object, assign values to an instance using dot notation. These values are referred to as object **attributes** or **fields**."
   ]
  },
  {
   "cell_type": "code",
   "execution_count": 6,
   "metadata": {},
   "outputs": [
    {
     "name": "stdout",
     "output_type": "stream",
     "text": [
      "3.0 4.0\n"
     ]
    }
   ],
   "source": [
    "point = Point()\n",
    "point.x = 3.0\n",
    "point.y = 4.0\n",
    "print(point.x, point.y) "
   ]
  },
  {
   "cell_type": "markdown",
   "metadata": {},
   "source": [
    "Objects are **mutable**, which means that you can change their attributes by assigning new values. For example, you can modify the position of the point instance by assignment:"
   ]
  },
  {
   "cell_type": "code",
   "execution_count": 7,
   "metadata": {},
   "outputs": [
    {
     "name": "stdout",
     "output_type": "stream",
     "text": [
      "4.0 5.0\n"
     ]
    }
   ],
   "source": [
    "point.x = 4.0\n",
    "point.y = 5.0\n",
    "print(point.x, point.y)  "
   ]
  },
  {
   "cell_type": "code",
   "execution_count": 8,
   "metadata": {},
   "outputs": [
    {
     "name": "stdout",
     "output_type": "stream",
     "text": [
      "14.0 15.0\n"
     ]
    }
   ],
   "source": [
    "# function that modifies the attributes of a Point object:\n",
    "def move_point(p, distance_x, distance_y):\n",
    "  p.x += distance_x\n",
    "  p.y += distance_y\n",
    "\n",
    "move_point(point, 10, 10)\n",
    "print(point.x, point.y)  "
   ]
  },
  {
   "cell_type": "markdown",
   "metadata": {},
   "source": [
    "## Objects as Function Return Values\n",
    "\n",
    "Functions can return an instance of an object.  For example, the function below takes two `Point` objects as an argument and returns a point that is between them:"
   ]
  },
  {
   "cell_type": "code",
   "execution_count": 11,
   "metadata": {},
   "outputs": [
    {
     "name": "stdout",
     "output_type": "stream",
     "text": [
      "4.0 5.0\n"
     ]
    }
   ],
   "source": [
    "def find_middle(p1, p2):\n",
    "    p = Point()\n",
    "    p.x = (p1.x + p2.x) / 2\n",
    "    p.y = (p1.y + p2.y) / 2\n",
    "    return p\n",
    "\n",
    "point1 = Point()\n",
    "point1.x = 3.0\n",
    "point1.y = 4.0\n",
    "point2 = Point()\n",
    "point2.x = 5.0\n",
    "point2.y = 6.0\n",
    "middle = find_middle(point1, point2)\n",
    "print(middle.x, middle.y) \n"
   ]
  },
  {
   "cell_type": "markdown",
   "metadata": {},
   "source": [
    "## Object Methods\n",
    "\n",
    "Functions associated with a particular class are known as **methods**.  By convention, the first parameter of a method is called self.  To use a method, call it using the dot notation:"
   ]
  },
  {
   "cell_type": "code",
   "execution_count": 12,
   "metadata": {},
   "outputs": [
    {
     "name": "stdout",
     "output_type": "stream",
     "text": [
      "4.0 3.0\n"
     ]
    }
   ],
   "source": [
    "class Point:\n",
    "  x = 0\n",
    "  y = 0\n",
    "\n",
    "  def print(self):\n",
    "    print(self.x, self.y)\n",
    "\n",
    "point = Point()\n",
    "point.x = 4.0\n",
    "point.y = 3.0\n",
    "point.print()"
   ]
  },
  {
   "cell_type": "markdown",
   "metadata": {},
   "source": [
    "## __init__ Method\n",
    "\n",
    "Special method `__init__` is automatically called when an object is instantiated.  This provides a good way to initialize attributes of the object using the init method parameters:"
   ]
  },
  {
   "cell_type": "code",
   "execution_count": 15,
   "metadata": {},
   "outputs": [
    {
     "name": "stdout",
     "output_type": "stream",
     "text": [
      "0 0\n",
      "4.0 0\n",
      "4.0 3.0\n"
     ]
    }
   ],
   "source": [
    "class Point:\n",
    "  def __init__(self, x=0, y=0):\n",
    "    self.x = x\n",
    "    self.y = y\n",
    "\n",
    "  def print(self):\n",
    "    print(self.x, self.y)\n",
    "\n",
    "point = Point()\n",
    "point.print()  \n",
    "point = Point(4.0)  \n",
    "point.print()  \n",
    "point = Point(4.0, 3.0) \n",
    "point.print() "
   ]
  },
  {
   "cell_type": "markdown",
   "metadata": {},
   "source": [
    "## Object Example: Car\n",
    "\n",
    "One example of a real world object might be a car.  In terms of code, you can think of car’s various properties as fields (object variables) and car’s capabilities as methods (object functions):"
   ]
  },
  {
   "cell_type": "code",
   "execution_count": 20,
   "metadata": {},
   "outputs": [
    {
     "name": "stdout",
     "output_type": "stream",
     "text": [
      "start car..\n",
      "drive car..\n",
      "speed =  10\n"
     ]
    }
   ],
   "source": [
    "class Car:\n",
    "    def __init__(self, Make, Model, Color):\n",
    "        self.make = Make\n",
    "        self.model = Model\n",
    "        self.model = Color\n",
    "        self.speed = 0\n",
    "\n",
    "    def start(self):\n",
    "        print(\"start car..\")\n",
    "\n",
    "    def drive(self, speed):\n",
    "        print(\"drive car..\")\n",
    "        self.speed = speed\n",
    "\n",
    "car = Car('honda', 'civic', 'green')\n",
    "car.start()\n",
    "car.drive(10)\n",
    "print(\"speed = \", car.speed)\n"
   ]
  }
 ],
 "metadata": {
  "interpreter": {
   "hash": "8d4e034db59a6bda3f881a616c0934516fd717a906758f1f7139e3bd1294e4c5"
  },
  "kernelspec": {
   "display_name": "Python 3.10.2 64-bit ('.venv': venv)",
   "language": "python",
   "name": "python3"
  },
  "language_info": {
   "codemirror_mode": {
    "name": "ipython",
    "version": 3
   },
   "file_extension": ".py",
   "mimetype": "text/x-python",
   "name": "python",
   "nbconvert_exporter": "python",
   "pygments_lexer": "ipython3",
   "version": "3.10.2"
  },
  "orig_nbformat": 4
 },
 "nbformat": 4,
 "nbformat_minor": 2
}
