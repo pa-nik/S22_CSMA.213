{
 "cells": [
  {
   "cell_type": "markdown",
   "metadata": {},
   "source": [
    "### Knapsack Problem - Brute Force Approach\n",
    "\n",
    "Notebook to accompany *Grokking Artificial Intelligence Algorithms*, Chapter 4.  Adapted from Python source code  [knapsack_brute_force.py](https://github.com/rishal-hurbans/Grokking-Artificial-Intelligence-Algorithms/blob/master/ch04-evolutionary_algorithms/knapsack_brute_force.py)"
   ]
  },
  {
   "cell_type": "code",
   "execution_count": 13,
   "metadata": {},
   "outputs": [],
   "source": [
    "import itertools\n",
    "from itertools import product\n",
    "import time\n",
    "\n",
    "# Set the indexes for data array\n",
    "# 0 = name, 1 = weight, 2 = value, 3 = fitness\n",
    "KNAPSACK_WEIGHT_INDEX = 1\n",
    "KNAPSACK_VALUE_INDEX = 2\n",
    "KNAPSACK_FITNESS_INDEX = 3"
   ]
  },
  {
   "cell_type": "markdown",
   "metadata": {},
   "source": [
    "Choose to run either small and large dataset below:"
   ]
  },
  {
   "cell_type": "code",
   "execution_count": 14,
   "metadata": {},
   "outputs": [],
   "source": [
    "# Small knapsack dataset\n",
    "KNAPSACK_MAX_CAPACITY = 10\n",
    "knapsack_items = [\n",
    "    ['Pearls', 3, 4],\n",
    "    ['Gold', 7, 7],\n",
    "    ['Crown', 4, 5],\n",
    "    ['Coin', 1, 1],\n",
    "    ['Axe', 5, 4],\n",
    "    ['Sword', 4, 3],\n",
    "    ['Ring', 2, 5],\n",
    "    ['Cup', 3, 1],\n",
    "]"
   ]
  },
  {
   "cell_type": "code",
   "execution_count": 15,
   "metadata": {},
   "outputs": [],
   "source": [
    "# Large knapsack dataset\n",
    "KNAPSACK_MAX_CAPACITY = 6404180\n",
    "knapsack_items = [\n",
    "    ['Axe', 32252, 68674],\n",
    "    ['Bronze coin', 225790, 471010],\n",
    "    ['Crown', 468164, 944620],\n",
    "    ['Diamond statue', 489494, 962094],\n",
    "    ['Emerald belt', 35384, 78344],\n",
    "    ['Fossil', 265590, 579152],\n",
    "    ['Gold coin', 497911, 902698],\n",
    "    ['Helmet', 800493, 1686515],\n",
    "    ['Ink', 823576, 1688691],\n",
    "    ['Jewel box', 552202, 1056157],\n",
    "    ['Knife', 323618, 677562],\n",
    "    ['Long sword', 382846, 833132],\n",
    "    ['Mask', 44676, 99192],\n",
    "    ['Necklace', 169738, 376418],\n",
    "    ['Opal badge', 610876, 1253986],\n",
    "    ['Pearls', 854190, 1853562],\n",
    "    ['Quiver', 671123, 1320297],\n",
    "    ['Ruby ring', 698180, 1301637],\n",
    "    ['Silver bracelet', 446517, 859835],\n",
    "    ['Timepiece', 909620, 1677534],\n",
    "    ['Uniform', 904818, 1910501],\n",
    "    ['Venom potion', 730061, 1528646],\n",
    "    ['Wool scarf', 931932, 1827477],\n",
    "    ['Cross bow', 952360, 2068204],\n",
    "    ['Yesteryear book', 926023, 1746556],\n",
    "    ['Zinc cup', 978724, 2100851, 0]\n",
    "]"
   ]
  },
  {
   "cell_type": "code",
   "execution_count": 16,
   "metadata": {},
   "outputs": [],
   "source": [
    "# Get all possible combinations of items. This is exhaustive and computationally expensive!\n",
    "def get_all_combinations(items):\n",
    "    combinations = []\n",
    "    for index in range(0, len(items)):\n",
    "        combinations.append(items[index])\n",
    "        possibilities = [list(x) for x in itertools.combinations(items, index)]\n",
    "        combinations.append(possibilities)\n",
    "    return combinations"
   ]
  },
  {
   "cell_type": "code",
   "execution_count": 17,
   "metadata": {},
   "outputs": [],
   "source": [
    "# Calculate the fitness of the items selected given a maximum weight\n",
    "def calculate_individual_fitness(solution, maximum_weight):\n",
    "    total_weight = 0\n",
    "    total_value = 0\n",
    "    # Get the values and weight for each item marked with a 1\n",
    "    for item_index in range(0, len(solution)):\n",
    "        item = solution[item_index]\n",
    "        if item == 1:\n",
    "            total_weight += knapsack_items[item_index][KNAPSACK_WEIGHT_INDEX]\n",
    "            total_value += knapsack_items[item_index][KNAPSACK_VALUE_INDEX]\n",
    "    # Zero fitness if the weight constraint is violated\n",
    "    if total_weight > maximum_weight:\n",
    "        return 0\n",
    "    return total_value"
   ]
  },
  {
   "cell_type": "code",
   "execution_count": 18,
   "metadata": {},
   "outputs": [],
   "source": [
    "# Run the brute force algorithm\n",
    "def run_brute_force():\n",
    "    # bit_string_size = 8\n",
    "    bit_string_size = len(knapsack_items)\n",
    "    best_score = 0\n",
    "    best_individual = []\n",
    "    #knapsack_max_capacity = 10\n",
    "    knapsack_max_capacity = KNAPSACK_MAX_CAPACITY\n",
    "    print('Number of combinations: ', 2**bit_string_size)\n",
    "    iteration = 0\n",
    "    for i in product([0, 1], repeat=bit_string_size):\n",
    "        current = calculate_individual_fitness(i, knapsack_max_capacity)\n",
    "        if current > best_score:\n",
    "            best_score = current\n",
    "            best_individual = i\n",
    "            print('Iteration: ', iteration)\n",
    "            print('Best score: ', best_score)\n",
    "            print('Best individual: ', best_individual)\n",
    "        iteration += 1\n",
    "\n",
    "    print(best_individual)"
   ]
  },
  {
   "cell_type": "code",
   "execution_count": 19,
   "metadata": {},
   "outputs": [
    {
     "name": "stdout",
     "output_type": "stream",
     "text": [
      "Number of combinations:  67108864\n",
      "Iteration:  1\n",
      "Best score:  2100851\n",
      "Best individual:  (0, 0, 0, 0, 0, 0, 0, 0, 0, 0, 0, 0, 0, 0, 0, 0, 0, 0, 0, 0, 0, 0, 0, 0, 0, 1)\n",
      "Iteration:  3\n",
      "Best score:  3847407\n",
      "Best individual:  (0, 0, 0, 0, 0, 0, 0, 0, 0, 0, 0, 0, 0, 0, 0, 0, 0, 0, 0, 0, 0, 0, 0, 0, 1, 1)\n",
      "Iteration:  5\n",
      "Best score:  4169055\n",
      "Best individual:  (0, 0, 0, 0, 0, 0, 0, 0, 0, 0, 0, 0, 0, 0, 0, 0, 0, 0, 0, 0, 0, 0, 0, 1, 0, 1)\n",
      "Iteration:  7\n",
      "Best score:  5915611\n",
      "Best individual:  (0, 0, 0, 0, 0, 0, 0, 0, 0, 0, 0, 0, 0, 0, 0, 0, 0, 0, 0, 0, 0, 0, 0, 1, 1, 1)\n",
      "Iteration:  13\n",
      "Best score:  5996532\n",
      "Best individual:  (0, 0, 0, 0, 0, 0, 0, 0, 0, 0, 0, 0, 0, 0, 0, 0, 0, 0, 0, 0, 0, 0, 1, 1, 0, 1)\n",
      "Iteration:  15\n",
      "Best score:  7743088\n",
      "Best individual:  (0, 0, 0, 0, 0, 0, 0, 0, 0, 0, 0, 0, 0, 0, 0, 0, 0, 0, 0, 0, 0, 0, 1, 1, 1, 1)\n",
      "Iteration:  31\n",
      "Best score:  9271734\n",
      "Best individual:  (0, 0, 0, 0, 0, 0, 0, 0, 0, 0, 0, 0, 0, 0, 0, 0, 0, 0, 0, 0, 0, 1, 1, 1, 1, 1)\n",
      "Iteration:  47\n",
      "Best score:  9653589\n",
      "Best individual:  (0, 0, 0, 0, 0, 0, 0, 0, 0, 0, 0, 0, 0, 0, 0, 0, 0, 0, 0, 0, 1, 0, 1, 1, 1, 1)\n",
      "Iteration:  63\n",
      "Best score:  11182235\n",
      "Best individual:  (0, 0, 0, 0, 0, 0, 0, 0, 0, 0, 0, 0, 0, 0, 0, 0, 0, 0, 0, 0, 1, 1, 1, 1, 1, 1)\n",
      "Iteration:  111\n",
      "Best score:  11331123\n",
      "Best individual:  (0, 0, 0, 0, 0, 0, 0, 0, 0, 0, 0, 0, 0, 0, 0, 0, 0, 0, 0, 1, 1, 0, 1, 1, 1, 1)\n",
      "Iteration:  127\n",
      "Best score:  12859769\n",
      "Best individual:  (0, 0, 0, 0, 0, 0, 0, 0, 0, 0, 0, 0, 0, 0, 0, 0, 0, 0, 0, 1, 1, 1, 1, 1, 1, 1)\n",
      "Iteration:  957\n",
      "Best score:  12917448\n",
      "Best individual:  (0, 0, 0, 0, 0, 0, 0, 0, 0, 0, 0, 0, 0, 0, 0, 0, 1, 1, 1, 0, 1, 1, 1, 1, 0, 1)\n",
      "Iteration:  1087\n",
      "Best score:  13035797\n",
      "Best individual:  (0, 0, 0, 0, 0, 0, 0, 0, 0, 0, 0, 0, 0, 0, 0, 1, 0, 0, 0, 0, 1, 1, 1, 1, 1, 1)\n",
      "Iteration:  1788\n",
      "Best score:  13046056\n",
      "Best individual:  (0, 0, 0, 0, 0, 0, 0, 0, 0, 0, 0, 0, 0, 0, 0, 1, 1, 0, 1, 1, 1, 1, 1, 1, 0, 0)\n",
      "Iteration:  3255\n",
      "Best score:  13322141\n",
      "Best individual:  (0, 0, 0, 0, 0, 0, 0, 0, 0, 0, 0, 0, 0, 0, 1, 1, 0, 0, 1, 0, 1, 1, 0, 1, 1, 1)\n",
      "Iteration:  3893\n",
      "Best score:  13337684\n",
      "Best individual:  (0, 0, 0, 0, 0, 0, 0, 0, 0, 0, 0, 0, 0, 0, 1, 1, 1, 1, 0, 0, 1, 1, 0, 1, 0, 1)\n",
      "Iteration:  15797\n",
      "Best score:  13352832\n",
      "Best individual:  (0, 0, 0, 0, 0, 0, 0, 0, 0, 0, 0, 0, 1, 1, 1, 1, 0, 1, 1, 0, 1, 1, 0, 1, 0, 1)\n",
      "Iteration:  16053\n",
      "Best score:  13371492\n",
      "Best individual:  (0, 0, 0, 0, 0, 0, 0, 0, 0, 0, 0, 0, 1, 1, 1, 1, 1, 0, 1, 0, 1, 1, 0, 1, 0, 1)\n",
      "Iteration:  19517\n",
      "Best score:  13376359\n",
      "Best individual:  (0, 0, 0, 0, 0, 0, 0, 0, 0, 0, 0, 1, 0, 0, 1, 1, 0, 0, 0, 0, 1, 1, 1, 1, 0, 1)\n",
      "Iteration:  27703\n",
      "Best score:  13394630\n",
      "Best individual:  (0, 0, 0, 0, 0, 0, 0, 0, 0, 0, 0, 1, 1, 0, 1, 1, 0, 0, 0, 0, 1, 1, 0, 1, 1, 1)\n",
      "Iteration:  27709\n",
      "Best score:  13475551\n",
      "Best individual:  (0, 0, 0, 0, 0, 0, 0, 0, 0, 0, 0, 1, 1, 0, 1, 1, 0, 0, 0, 0, 1, 1, 1, 1, 0, 1)\n",
      "Iteration:  64693\n",
      "Best score:  13561889\n",
      "Best individual:  (0, 0, 0, 0, 0, 0, 0, 0, 0, 0, 1, 1, 1, 1, 1, 1, 0, 0, 1, 0, 1, 1, 0, 1, 0, 1)\n",
      "Iteration:  285749\n",
      "Best score:  13611815\n",
      "Best individual:  (0, 0, 0, 0, 0, 0, 0, 1, 0, 0, 0, 1, 0, 1, 1, 1, 0, 0, 0, 0, 1, 1, 0, 1, 0, 1)\n",
      "Iteration:  1233973\n",
      "Best score:  13616719\n",
      "Best individual:  (0, 0, 0, 0, 0, 1, 0, 0, 1, 0, 1, 1, 0, 1, 0, 1, 0, 0, 0, 0, 1, 1, 0, 1, 0, 1)\n",
      "Iteration:  3462197\n",
      "Best score:  13692887\n",
      "Best individual:  (0, 0, 0, 0, 1, 1, 0, 1, 0, 0, 1, 1, 0, 1, 0, 1, 0, 0, 0, 0, 1, 1, 0, 1, 0, 1)\n",
      "(0, 0, 0, 0, 1, 1, 0, 1, 0, 0, 1, 1, 0, 1, 0, 1, 0, 0, 0, 0, 1, 1, 0, 1, 0, 1)\n",
      "Total time:  254.45808029174805\n"
     ]
    }
   ],
   "source": [
    "# Execute the brute force approach and measure it's performance\n",
    "start_time = time.time()\n",
    "run_brute_force()\n",
    "end_time = time.time()\n",
    "total_time = end_time - start_time\n",
    "print('Total time: ', total_time)"
   ]
  }
 ],
 "metadata": {
  "interpreter": {
   "hash": "8d4e034db59a6bda3f881a616c0934516fd717a906758f1f7139e3bd1294e4c5"
  },
  "kernelspec": {
   "display_name": "Python 3.10.2 64-bit ('.venv': venv)",
   "language": "python",
   "name": "python3"
  },
  "language_info": {
   "codemirror_mode": {
    "name": "ipython",
    "version": 3
   },
   "file_extension": ".py",
   "mimetype": "text/x-python",
   "name": "python",
   "nbconvert_exporter": "python",
   "pygments_lexer": "ipython3",
   "version": "3.10.2"
  },
  "orig_nbformat": 4
 },
 "nbformat": 4,
 "nbformat_minor": 2
}
