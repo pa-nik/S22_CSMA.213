{
 "cells": [
  {
   "cell_type": "markdown",
   "metadata": {},
   "source": [
    "### Knapsack Problem - Genetic Algorithm\n",
    "\n",
    "Notebook to accompany *Grokking Artificial Intelligence ALgorithms*, Chapter 4.  Adapted from source code [knapsack_genetic_algorithm.py](https://github.com/rishal-hurbans/Grokking-Artificial-Intelligence-Algorithms/blob/master/ch04-evolutionary_algorithms/knapsack_genetic_algorithm.py)"
   ]
  },
  {
   "cell_type": "code",
   "execution_count": 15,
   "metadata": {},
   "outputs": [],
   "source": [
    "import random\n",
    "\n",
    "# The indexes for data array\n",
    "# 0 = name, 1 = weight, 2 = value, 3 = fitness\n",
    "KNAPSACK_ITEM_NAME_INDEX = 0\n",
    "KNAPSACK_ITEM_WEIGHT_INDEX = 1\n",
    "KNAPSACK_ITEM_VALUE_INDEX = 2"
   ]
  },
  {
   "cell_type": "code",
   "execution_count": 16,
   "metadata": {},
   "outputs": [],
   "source": [
    "# Large knapsack dataset\n",
    "knapsack_items = [\n",
    "    ['Axe', 32252, 68674],\n",
    "    ['Bronze coin', 225790, 471010],\n",
    "    ['Crown', 468164, 944620],\n",
    "    ['Diamond statue', 489494, 962094],\n",
    "    ['Emerald belt', 35384, 78344],\n",
    "    ['Fossil', 265590, 579152],\n",
    "    ['Gold coin', 497911, 902698],\n",
    "    ['Helmet', 800493, 1686515],\n",
    "    ['Ink', 823576, 1688691],\n",
    "    ['Jewel box', 552202, 1056157],\n",
    "    ['Knife', 323618, 677562],\n",
    "    ['Long sword', 382846, 833132],\n",
    "    ['Mask', 44676, 99192],\n",
    "    ['Necklace', 169738, 376418],\n",
    "    ['Opal badge', 610876, 1253986],\n",
    "    ['Pearls', 854190, 1853562],\n",
    "    ['Quiver', 671123, 1320297],\n",
    "    ['Ruby ring', 698180, 1301637],\n",
    "    ['Silver bracelet', 446517, 859835],\n",
    "    ['Timepiece', 909620, 1677534],\n",
    "    ['Uniform', 904818, 1910501],\n",
    "    ['Venom potion', 730061, 1528646],\n",
    "    ['Wool scarf', 931932, 1827477],\n",
    "    ['Cross bow', 952360, 2068204],\n",
    "    ['Yesteryear book', 926023, 1746556],\n",
    "    ['Zinc cup', 978724, 2100851, 0]\n",
    "]"
   ]
  },
  {
   "cell_type": "code",
   "execution_count": 17,
   "metadata": {},
   "outputs": [],
   "source": [
    "# The best knapsack score from the brute force approach\n",
    "BEST_LARGE_KNAPSACK_SCORE = 13692887\n",
    "\n",
    "# Genetic algorithms are used to evaluate large search spaces for a good solution. It is important to note that a\n",
    "# genetic algorithm is not guaranteed to find the absolute best solution. It attempts to find the global best whilst\n",
    "# avoiding local best solutions. The general lifecycle of a genetic algorithm is as follows:\n",
    "\n",
    "# - Creation of a population: This involves creating a random population of potential solutions.\n",
    "\n",
    "# - Measuring fitness of individuals in the population: This involves determining how good a specific solution is.\n",
    "# This is accomplished by using a fitness function which scores solutions to determine how good they are.\n",
    "\n",
    "# - Selecting parents based on their fitness: This involves selecting a number of pairs of parents that will reproduce\n",
    "# offspring.\n",
    "\n",
    "# - Reproducing individuals from parents: This involves creating offspring from their respective parents by mixing\n",
    "# genetic information and applying slight mutations to the offspring.\n",
    "\n",
    "# - Populating the next generation: This involves selecting individuals and offspring from the population that will\n",
    "# survive to the next generation.\n",
    "\n",
    "# The indexes for an individual's properties\n",
    "INDIVIDUAL_CHROMOSOME_INDEX = 0\n",
    "INDIVIDUAL_FITNESS_INDEX = 1\n",
    "INDIVIDUAL_PROBABILITY_INDEX = 2"
   ]
  },
  {
   "cell_type": "code",
   "execution_count": 18,
   "metadata": {},
   "outputs": [],
   "source": [
    "# Generate an initial population of random individuals\n",
    "def generate_initial_population(population_size):\n",
    "    population = []\n",
    "    for individual in range(0, population_size):\n",
    "        individual = ''.join([random.choice('01') for n in range(26)])\n",
    "        population.append([individual, 0, 0])\n",
    "    return population"
   ]
  },
  {
   "cell_type": "code",
   "execution_count": 19,
   "metadata": {},
   "outputs": [],
   "source": [
    "# Calculate the fitness for each individual in the population given the maximum weight\n",
    "def calculate_population_fitness(population, maximum_weight):\n",
    "    best_fitness = 0\n",
    "    for individual in population:\n",
    "        individual_fitness = calculate_individual_fitness(individual[INDIVIDUAL_CHROMOSOME_INDEX], maximum_weight)\n",
    "        individual[INDIVIDUAL_FITNESS_INDEX] = individual_fitness\n",
    "        if individual_fitness > best_fitness:\n",
    "            best_fitness = individual_fitness\n",
    "        if individual_fitness == -1:\n",
    "            population.remove(individual)\n",
    "    return best_fitness"
   ]
  },
  {
   "cell_type": "code",
   "execution_count": 20,
   "metadata": {},
   "outputs": [],
   "source": [
    "# Calculate the fitness for an individual\n",
    "def calculate_individual_fitness(individual, maximum_weight):\n",
    "    total_individual_weight = 0\n",
    "    total_individual_value = 0\n",
    "    for gene_index in range(len(individual)):\n",
    "        gene_switch = individual[gene_index]\n",
    "        if gene_switch == '1':\n",
    "            total_individual_weight += knapsack_items[gene_index][KNAPSACK_ITEM_WEIGHT_INDEX]\n",
    "            total_individual_value += knapsack_items[gene_index][KNAPSACK_ITEM_VALUE_INDEX]\n",
    "    if total_individual_weight > maximum_weight:\n",
    "        return -1\n",
    "    return total_individual_value\n",
    "\n",
    "# print(calculate_individual_fitness('01100100010110001110001001', 6404180))\n",
    "# print(calculate_individual_fitness('00110101000100011010001000', 6404180))\n",
    "# print(calculate_individual_fitness('11100100110110000100101101', 6404180))\n",
    "# print(calculate_individual_fitness('00001000010010101101001001', 6404180))"
   ]
  },
  {
   "cell_type": "code",
   "execution_count": 21,
   "metadata": {},
   "outputs": [],
   "source": [
    "# Set the probabilities for selection for each individual in the population\n",
    "def set_probabilities(population):\n",
    "    population_sum = sum(individual[INDIVIDUAL_FITNESS_INDEX] for individual in population)\n",
    "    for individual in population:\n",
    "        individual[INDIVIDUAL_PROBABILITY_INDEX] = individual[INDIVIDUAL_FITNESS_INDEX] / population_sum"
   ]
  },
  {
   "cell_type": "code",
   "execution_count": 22,
   "metadata": {},
   "outputs": [],
   "source": [
    "# Roulette wheel selection to select individuals in a population\n",
    "def roulette_wheel_selection(population, number_of_selections):\n",
    "    set_probabilities(population)\n",
    "    slices = []\n",
    "    total = 0\n",
    "    for r in range(0, len(population)):\n",
    "        individual = population[r]\n",
    "        slices.append([r, total, total + individual[INDIVIDUAL_PROBABILITY_INDEX]])\n",
    "        total += individual[INDIVIDUAL_PROBABILITY_INDEX]\n",
    "    chosen_ones = []\n",
    "    for r in range(number_of_selections):\n",
    "        spin = random.random()\n",
    "        result = [s[0] for s in slices if s[1] < spin <= s[2]]\n",
    "        chosen_ones.append(population[result[0]])\n",
    "    return chosen_ones"
   ]
  },
  {
   "cell_type": "code",
   "execution_count": 23,
   "metadata": {},
   "outputs": [],
   "source": [
    "# Reproduce children given two individuals using one point crossover\n",
    "def one_point_crossover(parent_a, parent_b, xover_point):\n",
    "    children = [parent_a[:xover_point] + parent_b[xover_point:],\n",
    "                parent_b[:xover_point] + parent_a[xover_point:]]\n",
    "    return children\n",
    "\n",
    "# Reproduce children given two individuals using two point crossover\n",
    "def two_point_crossover(parent_a, parent_b, xover_point_1, xover_point_2):\n",
    "    children = [parent_a[:xover_point_1] + parent_b[xover_point_1:xover_point_2] + parent_a[xover_point_2:],\n",
    "                parent_b[:xover_point_1] + parent_a[xover_point_1:xover_point_2] + parent_b[xover_point_2:]]\n",
    "    return children"
   ]
  },
  {
   "cell_type": "code",
   "execution_count": 24,
   "metadata": {},
   "outputs": [],
   "source": [
    "# Randomly mutate children\n",
    "def mutate_children(children, mutation_rate):\n",
    "    for child in children:\n",
    "        random_index = random.randint(0, mutation_rate)\n",
    "        if child[INDIVIDUAL_CHROMOSOME_INDEX][random_index] == '1':\n",
    "            mutated_child = list(child[INDIVIDUAL_CHROMOSOME_INDEX])\n",
    "            mutated_child[random_index] = '0'\n",
    "            child[INDIVIDUAL_CHROMOSOME_INDEX] = mutated_child\n",
    "        else:\n",
    "            mutated_child = list(child[INDIVIDUAL_CHROMOSOME_INDEX])\n",
    "            mutated_child[random_index] = '1'\n",
    "            child[INDIVIDUAL_CHROMOSOME_INDEX] = mutated_child\n",
    "    return children"
   ]
  },
  {
   "cell_type": "code",
   "execution_count": 25,
   "metadata": {},
   "outputs": [],
   "source": [
    "# Reproduce children given selected individuals\n",
    "def reproduce_children(chosen_selections):\n",
    "    children = []\n",
    "    for parent_index in range(len(chosen_selections)//2 - 1):\n",
    "        children = one_point_crossover(chosen_selections[parent_index],\n",
    "                                       chosen_selections[parent_index + 1],\n",
    "                                       CROSSOVER_POSITION_1)\n",
    "    return children"
   ]
  },
  {
   "cell_type": "code",
   "execution_count": 26,
   "metadata": {},
   "outputs": [],
   "source": [
    "# Combine the existing population and newly reproduced children\n",
    "def merge_population_and_children(population, children):\n",
    "    return population + children\n",
    "\n",
    "# Set the hyper parameters for the genetic algorithm\n",
    "NUMBER_OF_GENERATIONS = 1000\n",
    "INITIAL_POPULATION_SIZE = 1000\n",
    "KNAPSACK_WEIGHT_CAPACITY = 6404180\n",
    "CROSSOVER_POSITION_1 = 13\n",
    "CROSSOVER_POSITION_2 = 22\n",
    "MUTATION_RATE = 10\n",
    "NUMBER_OF_ITERATIONS = 10 #5"
   ]
  },
  {
   "cell_type": "code",
   "execution_count": 27,
   "metadata": {},
   "outputs": [],
   "source": [
    "# Run the genetic algorithm\n",
    "def run_ga():\n",
    "    best_global_fitness = 0\n",
    "    global_population = generate_initial_population(INITIAL_POPULATION_SIZE)\n",
    "    for generation in range(NUMBER_OF_GENERATIONS):\n",
    "        current_best_fitness = calculate_population_fitness(global_population, KNAPSACK_WEIGHT_CAPACITY)\n",
    "        if current_best_fitness > best_global_fitness:\n",
    "            best_global_fitness = current_best_fitness\n",
    "        the_chosen = roulette_wheel_selection(global_population, 100)\n",
    "        the_children = reproduce_children(the_chosen)\n",
    "        the_children = mutate_children(the_children, MUTATION_RATE)\n",
    "        global_population = merge_population_and_children(global_population, the_children)\n",
    "        # print(global_population)\n",
    "\n",
    "    print('Best fitness: ', best_global_fitness)\n",
    "    print('Actual best: ', BEST_LARGE_KNAPSACK_SCORE)\n",
    "    print('Accuracy: ', best_global_fitness / BEST_LARGE_KNAPSACK_SCORE * 100)\n",
    "    print('Final population size: ', len(global_population))\n",
    "\n",
    "    # calculate_population_fitness(global_population, KNAPSACK_WEIGHT_CAPACITY)\n",
    "    # the_chosen = roulette_wheel_selection(global_population, 100)\n",
    "    # the_children = reproduce_children(the_chosen)\n",
    "    # the_children = mutate_children(the_children)\n",
    "    # global_population = merge_population_and_children(global_population, the_children)\n",
    "    # global_population = roulette_wheel_selection(global_population, 100)\n"
   ]
  },
  {
   "cell_type": "code",
   "execution_count": 28,
   "metadata": {},
   "outputs": [
    {
     "name": "stdout",
     "output_type": "stream",
     "text": [
      "---\n",
      "iteration: 0\n",
      "Best fitness:  13407865\n",
      "Actual best:  13692887\n",
      "Accuracy:  97.91846671925359\n",
      "Final population size:  1986\n",
      "---\n",
      "iteration: 1\n",
      "Best fitness:  13373184\n",
      "Actual best:  13692887\n",
      "Accuracy:  97.66518923292071\n",
      "Final population size:  1965\n",
      "---\n",
      "iteration: 2\n",
      "Best fitness:  13268032\n",
      "Actual best:  13692887\n",
      "Accuracy:  96.8972576783844\n",
      "Final population size:  1953\n",
      "---\n",
      "iteration: 3\n",
      "Best fitness:  13394284\n",
      "Actual best:  13692887\n",
      "Accuracy:  97.81928383692934\n",
      "Final population size:  1987\n",
      "---\n",
      "iteration: 4\n",
      "Best fitness:  13339251\n",
      "Actual best:  13692887\n",
      "Accuracy:  97.41737443681527\n",
      "Final population size:  1973\n",
      "---\n",
      "iteration: 5\n",
      "Best fitness:  13323192\n",
      "Actual best:  13692887\n",
      "Accuracy:  97.30009456734726\n",
      "Final population size:  1984\n",
      "---\n",
      "iteration: 6\n",
      "Best fitness:  13254974\n",
      "Actual best:  13692887\n",
      "Accuracy:  96.80189429738229\n",
      "Final population size:  2000\n",
      "---\n",
      "iteration: 7\n",
      "Best fitness:  13370646\n",
      "Actual best:  13692887\n",
      "Accuracy:  97.64665406206888\n",
      "Final population size:  1978\n",
      "---\n",
      "iteration: 8\n",
      "Best fitness:  13326620\n",
      "Actual best:  13692887\n",
      "Accuracy:  97.32512946320232\n",
      "Final population size:  1969\n",
      "---\n",
      "iteration: 9\n",
      "Best fitness:  13454767\n",
      "Actual best:  13692887\n",
      "Accuracy:  98.26099492386084\n",
      "Final population size:  1939\n"
     ]
    }
   ],
   "source": [
    "# Run the genetic algorithm for a number of iterations\n",
    "for i in range(0, NUMBER_OF_ITERATIONS):\n",
    "    print(\"---\")\n",
    "    print(\"iteration:\", i)\n",
    "    run_ga()"
   ]
  }
 ],
 "metadata": {
  "interpreter": {
   "hash": "8d4e034db59a6bda3f881a616c0934516fd717a906758f1f7139e3bd1294e4c5"
  },
  "kernelspec": {
   "display_name": "Python 3.10.2 64-bit ('.venv': venv)",
   "language": "python",
   "name": "python3"
  },
  "language_info": {
   "codemirror_mode": {
    "name": "ipython",
    "version": 3
   },
   "file_extension": ".py",
   "mimetype": "text/x-python",
   "name": "python",
   "nbconvert_exporter": "python",
   "pygments_lexer": "ipython3",
   "version": "3.10.2"
  },
  "orig_nbformat": 4
 },
 "nbformat": 4,
 "nbformat_minor": 2
}
